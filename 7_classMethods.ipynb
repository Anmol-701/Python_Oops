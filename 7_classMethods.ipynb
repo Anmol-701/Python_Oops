{
 "cells": [
  {
   "cell_type": "code",
   "execution_count": 9,
   "id": "b37eef10-671f-4c23-9da6-19a21851d24e",
   "metadata": {},
   "outputs": [],
   "source": [
    "## Let's suppose I created a class pwskills;\n",
    "class pwskills:\n",
    "    def __init__(self,name,email):\n",
    "        self.name=name\n",
    "        self.email=email\n",
    "    def student_details(self):\n",
    "        print(self.name,self.email)"
   ]
  },
  {
   "cell_type": "code",
   "execution_count": 2,
   "id": "9a9a33a7-dd35-4b73-81c2-b4528b2d6871",
   "metadata": {},
   "outputs": [],
   "source": [
    "pw = pwskills(\"anmol\",\"anmol@gmail.com\")"
   ]
  },
  {
   "cell_type": "code",
   "execution_count": 4,
   "id": "163d4f12-ef65-4dcd-9493-e9cee067ebdd",
   "metadata": {},
   "outputs": [
    {
     "data": {
      "text/plain": [
       "'anmol'"
      ]
     },
     "execution_count": 4,
     "metadata": {},
     "output_type": "execute_result"
    }
   ],
   "source": [
    "pw.name  ## Accessing the name by using object of class"
   ]
  },
  {
   "cell_type": "markdown",
   "id": "053d1244-efb0-4780-9957-fe8ae3be81a2",
   "metadata": {},
   "source": [
    "### Here we also have alternative to do this and here class methods comes in picture"
   ]
  },
  {
   "cell_type": "code",
   "execution_count": 5,
   "id": "e844c50f-1408-4f17-a45f-a050fcb4b28f",
   "metadata": {},
   "outputs": [],
   "source": [
    "class pwskills1:\n",
    "    def __init__(self,name,email):\n",
    "        self.name=name\n",
    "        self.email=email\n",
    "        \n",
    "    @classmethod    #-->in-built decorator\n",
    "    def details(cls, name ,email):\n",
    "        return cls(name,email)\n",
    "    \n",
    "    def student_details(self):\n",
    "        print(self.name,self.email)"
   ]
  },
  {
   "cell_type": "code",
   "execution_count": 10,
   "id": "39d8a6a7-3447-42e3-8afa-d671752bc964",
   "metadata": {},
   "outputs": [],
   "source": [
    "## Now we can pass the data to a class directly .\n",
    "pw1=pwskills1.details(\"mohan\",\"mohan@gmail.com\")"
   ]
  },
  {
   "cell_type": "code",
   "execution_count": 11,
   "id": "d357db9a-7205-4875-9e89-955901722cee",
   "metadata": {},
   "outputs": [
    {
     "data": {
      "text/plain": [
       "'mohan'"
      ]
     },
     "execution_count": 11,
     "metadata": {},
     "output_type": "execute_result"
    }
   ],
   "source": [
    "pw1.name"
   ]
  },
  {
   "cell_type": "code",
   "execution_count": 12,
   "id": "32803d8e-002c-478a-b9ae-2cec30b70926",
   "metadata": {},
   "outputs": [
    {
     "data": {
      "text/plain": [
       "'mohan@gmail.com'"
      ]
     },
     "execution_count": 12,
     "metadata": {},
     "output_type": "execute_result"
    }
   ],
   "source": [
    "pw1.email"
   ]
  },
  {
   "cell_type": "code",
   "execution_count": 13,
   "id": "3747a930-8f5e-412c-94eb-556d2c550c91",
   "metadata": {},
   "outputs": [
    {
     "name": "stdout",
     "output_type": "stream",
     "text": [
      "mohan mohan@gmail.com\n"
     ]
    }
   ],
   "source": [
    "pw1.student_details()"
   ]
  },
  {
   "cell_type": "code",
   "execution_count": 3,
   "id": "22a05610-252d-4a6b-90ee-a8669847e9d2",
   "metadata": {},
   "outputs": [],
   "source": [
    "## Another Example\n",
    "class pwskills2:\n",
    "    mobile_number=123445433\n",
    "    def __init__(self,name,email):\n",
    "        self.name=name\n",
    "        self.email=email\n",
    "    \n",
    "    @classmethod\n",
    "    def change_number(cls,mobile):\n",
    "        pwskills2.mobile_number=mobile\n",
    "        \n",
    "    @classmethod    #-->in-built decorator\n",
    "    def details(cls, name1 ,email1):\n",
    "        return cls(name1,email1)\n",
    "    \n",
    "    def student_details(self):\n",
    "        ## here we are creating a instance of mobile_number inside student_details function;\n",
    "        print(self.name,self.email,pwskills2.mobile_number)"
   ]
  },
  {
   "cell_type": "code",
   "execution_count": 4,
   "id": "dcd207f4-95fc-422c-9db8-17ab55a79f3e",
   "metadata": {},
   "outputs": [],
   "source": [
    "## let's try to understant whether i am able to access the classmethods through an object or not;\n",
    "pw2_obj=pwskills2(\"sohil\",\"sohil@gmail.com\")"
   ]
  },
  {
   "cell_type": "code",
   "execution_count": 5,
   "id": "ca8f2e49-72ef-4685-a786-24f1f0e75aaa",
   "metadata": {},
   "outputs": [
    {
     "data": {
      "text/plain": [
       "<__main__.pwskills2 at 0x7f48526f4100>"
      ]
     },
     "execution_count": 5,
     "metadata": {},
     "output_type": "execute_result"
    }
   ],
   "source": [
    "pw2_obj.details(\"sudh\",\"sudh@gmail.com\")"
   ]
  },
  {
   "cell_type": "code",
   "execution_count": 7,
   "id": "10bf6fbb-f193-4fc2-8aa2-f2b875f010a2",
   "metadata": {},
   "outputs": [
    {
     "data": {
      "text/plain": [
       "'sohil'"
      ]
     },
     "execution_count": 7,
     "metadata": {},
     "output_type": "execute_result"
    }
   ],
   "source": [
    "pw2_obj.name ##-->yes we can access the classmethods through on object;"
   ]
  },
  {
   "cell_type": "code",
   "execution_count": 18,
   "id": "82a911f6-4536-43e4-a8e8-b57f9a12d5e1",
   "metadata": {},
   "outputs": [
    {
     "data": {
      "text/plain": [
       "123445433"
      ]
     },
     "execution_count": 18,
     "metadata": {},
     "output_type": "execute_result"
    }
   ],
   "source": [
    "pwskills2.mobile_number"
   ]
  },
  {
   "cell_type": "code",
   "execution_count": 27,
   "id": "e197f1d8-b10a-41cb-914e-9d941d2b90b7",
   "metadata": {},
   "outputs": [],
   "source": [
    "## Changing the number using change_number function;\n",
    "pwskills2.change_number(9234222)"
   ]
  },
  {
   "cell_type": "code",
   "execution_count": 30,
   "id": "20faef19-6f3d-4092-8ff1-7bcd7d51b483",
   "metadata": {},
   "outputs": [
    {
     "data": {
      "text/plain": [
       "9234222"
      ]
     },
     "execution_count": 30,
     "metadata": {},
     "output_type": "execute_result"
    }
   ],
   "source": [
    "pwskills2.mobile_number ##-->here we can see that the number has been changed;"
   ]
  },
  {
   "cell_type": "code",
   "execution_count": 21,
   "id": "e08dec96-4198-4ca7-adc7-a16d16f1f0a3",
   "metadata": {},
   "outputs": [],
   "source": [
    "pw2=pwskills2.details(\"sohan\",\"sohan@gmail.com\")"
   ]
  },
  {
   "cell_type": "code",
   "execution_count": 23,
   "id": "4b05e4ed-87f5-4b2e-8b3e-52adb394b4fa",
   "metadata": {},
   "outputs": [
    {
     "name": "stdout",
     "output_type": "stream",
     "text": [
      "sohan sohan@gmail.com 123445433\n"
     ]
    }
   ],
   "source": [
    "pw2.student_details()"
   ]
  },
  {
   "cell_type": "code",
   "execution_count": 24,
   "id": "8b6a0c51-bf51-4abf-bdb3-f383414e7f03",
   "metadata": {},
   "outputs": [],
   "source": [
    "pw2_obj=pwskills2(\"rohan\",\"rohan@gmail.com\")"
   ]
  },
  {
   "cell_type": "code",
   "execution_count": 25,
   "id": "f16d3fad-8971-4647-8a70-3337ed58b4d3",
   "metadata": {},
   "outputs": [
    {
     "name": "stdout",
     "output_type": "stream",
     "text": [
      "rohan rohan@gmail.com 123445433\n"
     ]
    }
   ],
   "source": [
    "pw2_obj.student_details()"
   ]
  },
  {
   "cell_type": "code",
   "execution_count": 17,
   "id": "2ef14851-20d5-4c6a-a55b-4bf89f017b5d",
   "metadata": {},
   "outputs": [],
   "source": [
    "## Example of how we can add external function to the class\n",
    "class pwskills3:\n",
    "    mobile_number=123445433\n",
    "    def __init__(self,name,email):\n",
    "        self.name=name\n",
    "        self.email=email\n",
    "    \n",
    "    @classmethod\n",
    "    def change_number(cls,mobile):\n",
    "        pwskills2.mobile_number=mobile\n",
    "        \n",
    "    @classmethod    #-->in-built decorator\n",
    "    def details(cls, name1 ,email1):\n",
    "        return cls(name1,email1)\n",
    "    \n",
    "    def student_details(self):\n",
    "        ## here we are creating a instance of mobile_number inside student_details function;\n",
    "        print(self.name,self.email,pwskills2.mobile_number)"
   ]
  },
  {
   "cell_type": "code",
   "execution_count": 18,
   "id": "2e0d0a93-ba70-445f-ae1c-eeac7f21d9e3",
   "metadata": {},
   "outputs": [],
   "source": [
    "## here i created external function and if we want to add this function to the class;\n",
    "def course_details(cls, course_name):\n",
    "    print(\"course_detail:\",course_name)"
   ]
  },
  {
   "cell_type": "code",
   "execution_count": 19,
   "id": "fa187440-2300-421d-92db-b7a8f7c6514a",
   "metadata": {},
   "outputs": [],
   "source": [
    "pwskills3.course_details=classmethod(course_details) #-->this will add \"course_details\" method in class"
   ]
  },
  {
   "cell_type": "code",
   "execution_count": 20,
   "id": "94862e79-9f91-4042-9d4f-9ba777fde387",
   "metadata": {},
   "outputs": [
    {
     "name": "stdout",
     "output_type": "stream",
     "text": [
      "course_detail: data science masters\n"
     ]
    }
   ],
   "source": [
    "pwskills3.course_details(\"data science masters\")"
   ]
  },
  {
   "cell_type": "code",
   "execution_count": 21,
   "id": "1e15aca3-a585-4462-8c7c-161128423eea",
   "metadata": {},
   "outputs": [],
   "source": [
    "pw3=pwskills3(\"anmol\",\"anmol@gmail.com\")"
   ]
  },
  {
   "cell_type": "code",
   "execution_count": 22,
   "id": "593d86b6-fe18-42b5-884b-d91e390ca5b4",
   "metadata": {},
   "outputs": [
    {
     "name": "stdout",
     "output_type": "stream",
     "text": [
      "course_detail: web_dev\n"
     ]
    }
   ],
   "source": [
    "pw3.course_details(\"web_dev\")"
   ]
  },
  {
   "cell_type": "code",
   "execution_count": 24,
   "id": "f342e6cb-053d-4cb8-b162-ea2ed8efc897",
   "metadata": {},
   "outputs": [],
   "source": [
    "## Example of how we can delete any function to the class\n",
    "class pwskills4:\n",
    "    mobile_number=123445433\n",
    "    def __init__(self,name,email):\n",
    "        self.name=name\n",
    "        self.email=email\n",
    "    \n",
    "    @classmethod\n",
    "    def change_number(cls,mobile):\n",
    "        pwskills2.mobile_number=mobile\n",
    "        \n",
    "    @classmethod    #-->in-built decorator\n",
    "    def details(cls, name1 ,email1):\n",
    "        return cls(name1,email1)\n",
    "    \n",
    "    def student_details(self):\n",
    "        ## here we are creating a instance of mobile_number inside student_details function;\n",
    "        print(self.name,self.email,pwskills2.mobile_number)"
   ]
  },
  {
   "cell_type": "code",
   "execution_count": 27,
   "id": "46d3a04b-8822-4946-883e-bda047973a63",
   "metadata": {},
   "outputs": [
    {
     "ename": "AttributeError",
     "evalue": "change_number",
     "output_type": "error",
     "traceback": [
      "\u001b[0;31m---------------------------------------------------------------------------\u001b[0m",
      "\u001b[0;31mAttributeError\u001b[0m                            Traceback (most recent call last)",
      "Cell \u001b[0;32mIn[27], line 1\u001b[0m\n\u001b[0;32m----> 1\u001b[0m \u001b[38;5;28;01mdel\u001b[39;00m pwskills4\u001b[38;5;241m.\u001b[39mchange_number \u001b[38;5;66;03m##-->The \"change_number\" function has been deleted;\u001b[39;00m\n",
      "\u001b[0;31mAttributeError\u001b[0m: change_number"
     ]
    }
   ],
   "source": [
    "del pwskills4.change_number ##-->The \"change_number\" function has been deleted;"
   ]
  },
  {
   "cell_type": "markdown",
   "id": "d4a1b926-1463-4ce5-8270-2ba95aed8257",
   "metadata": {},
   "source": [
    "### -->The \"change_number\" function has been deleted;"
   ]
  },
  {
   "cell_type": "code",
   "execution_count": 29,
   "id": "ee20969e-5b86-4d1f-98ac-3b9163e2e982",
   "metadata": {},
   "outputs": [],
   "source": [
    "## We can also delete a function in this way\n",
    "delattr(pwskills4,\"details\")"
   ]
  },
  {
   "cell_type": "code",
   "execution_count": null,
   "id": "e5225a71-fe5d-42e3-b415-92a9cbe4f192",
   "metadata": {},
   "outputs": [],
   "source": []
  }
 ],
 "metadata": {
  "kernelspec": {
   "display_name": "Python 3 (ipykernel)",
   "language": "python",
   "name": "python3"
  },
  "language_info": {
   "codemirror_mode": {
    "name": "ipython",
    "version": 3
   },
   "file_extension": ".py",
   "mimetype": "text/x-python",
   "name": "python",
   "nbconvert_exporter": "python",
   "pygments_lexer": "ipython3",
   "version": "3.10.8"
  }
 },
 "nbformat": 4,
 "nbformat_minor": 5
}
