{
 "cells": [
  {
   "cell_type": "markdown",
   "id": "2301f5f3-2c3a-4645-86cd-77ba1d544d50",
   "metadata": {},
   "source": [
    "### Problem_1: Create a vehicle class with an init method having instance variable as name_of_vehicle,max_speed and average_of_vehicle."
   ]
  },
  {
   "cell_type": "code",
   "execution_count": 15,
   "id": "645cb04d-ae2a-4963-960b-8b5610ae5556",
   "metadata": {},
   "outputs": [],
   "source": [
    "class vehicle:\n",
    "    def __init__(self,name_of_vehicle,max_speed,average_of_vehicle):\n",
    "        self.name=name_of_vehicle\n",
    "        self.mx_speed=max_speed\n",
    "        self.veh_avg=average_of_vehicle"
   ]
  },
  {
   "cell_type": "markdown",
   "id": "5329fe4e-b0b9-4e40-a12e-f5f3030d26f6",
   "metadata": {},
   "source": [
    "### Problem_2: Create a child class car from the vehicle class created in ques_1, which will inherit the vehicle class. Create a method named seating_capacity which takes capacity as an argument and returns the name of the vehicle and its seating capacity\n"
   ]
  },
  {
   "cell_type": "code",
   "execution_count": 29,
   "id": "79f821a2-768a-4e7d-be51-b920d110bb43",
   "metadata": {},
   "outputs": [],
   "source": [
    "class car(vehicle):\n",
    "    def seating_capacity(self,capacity):\n",
    "        return self.name,capacity"
   ]
  },
  {
   "cell_type": "code",
   "execution_count": 30,
   "id": "b401a61a-badf-42c2-8186-9e61d00dc922",
   "metadata": {},
   "outputs": [
    {
     "data": {
      "text/plain": [
       "('Toyota', 4)"
      ]
     },
     "execution_count": 30,
     "metadata": {},
     "output_type": "execute_result"
    }
   ],
   "source": [
    "obj=car(\"Toyota\",200,25)\n",
    "obj.seating_capacity(4)"
   ]
  },
  {
   "cell_type": "markdown",
   "id": "f21201c3-3e32-4a6c-8427-4b48b93e217e",
   "metadata": {},
   "source": [
    "### Problem_3: What is multiple Inheritance? Write a python code to demonstrate mulitple inheritance."
   ]
  },
  {
   "cell_type": "markdown",
   "id": "dcdfe649-2cee-4575-9172-98318f79eddc",
   "metadata": {},
   "source": [
    "### Multiple Inheritance:\n",
    "  - Multiple inheritance allows a derived class to inherit from multiple base classes. It enables a class to inherit attributes and methods from more than one parent class"
   ]
  },
  {
   "cell_type": "code",
   "execution_count": 32,
   "id": "a0a56059-863c-4b32-a713-baa44b778225",
   "metadata": {},
   "outputs": [],
   "source": [
    "class car:\n",
    "    def drive(self):\n",
    "        print(\"The car is being driven\")\n",
    "        \n",
    "class Electric:\n",
    "    def charge(self):\n",
    "        print(\"The car is being charged\")\n",
    "class Tesla(car,Electric):\n",
    "    def automode(self):\n",
    "        print(\"The car is in Auto-mode\")"
   ]
  },
  {
   "cell_type": "code",
   "execution_count": 37,
   "id": "e8c20194-99bd-4fd6-b428-2b8f39de175c",
   "metadata": {},
   "outputs": [
    {
     "name": "stdout",
     "output_type": "stream",
     "text": [
      "The car is being driven\n"
     ]
    }
   ],
   "source": [
    "## Creating object of \"Tesla\" class \n",
    "obj_tesla=Tesla()\n",
    "obj_tesla.drive()"
   ]
  },
  {
   "cell_type": "markdown",
   "id": "8826ddb1-0410-4ee7-ba9e-fd61d772d849",
   "metadata": {},
   "source": [
    "### Problem_4: What are getter and setter in python? Create a class and create getter and a setter method in this class."
   ]
  },
  {
   "cell_type": "markdown",
   "id": "3fd925fd-b247-40c1-8b6c-6f0dac9e0a81",
   "metadata": {},
   "source": [
    "- A getter is a method used to retrieve the value of an attribute, while a setter is a method used to modify or set the value of an attribute.\n",
    "- They provide controlled access to class attributes and enable the implementation of encapsulation."
   ]
  },
  {
   "cell_type": "code",
   "execution_count": 38,
   "id": "91cc55a6-d8f1-4f34-bcbc-91c45d9f6ad6",
   "metadata": {},
   "outputs": [],
   "source": [
    "## Example of getter and setter\n",
    "class Employee:\n",
    "    def __init__(self,name,age):\n",
    "        self._name=name\n",
    "        self._age=age\n",
    "    \n",
    "    def get_name(self):\n",
    "        return self._name\n",
    "    \n",
    "    def set_name(self,name):\n",
    "        self._name=name\n",
    "        \n",
    "    def get_age(self):\n",
    "        return self._age\n",
    "    \n",
    "    def set_age(self,age):\n",
    "        if age>=0:\n",
    "            self._age=age\n",
    "        else:\n",
    "            print(\"Age can't be negative\")"
   ]
  },
  {
   "cell_type": "code",
   "execution_count": 43,
   "id": "fef1353d-5f9d-4596-9aa2-f425f55637f8",
   "metadata": {},
   "outputs": [
    {
     "data": {
      "text/plain": [
       "25"
      ]
     },
     "execution_count": 43,
     "metadata": {},
     "output_type": "execute_result"
    }
   ],
   "source": [
    "## Creating an instance of \"Employee\" class\n",
    "emp_obj=Employee(\"Michle\",25)\n",
    "emp_obj.get_age()"
   ]
  },
  {
   "cell_type": "code",
   "execution_count": 45,
   "id": "2d5b4d28-7bc8-4a3f-8018-7a79fe0cb8a7",
   "metadata": {},
   "outputs": [
    {
     "data": {
      "text/plain": [
       "30"
      ]
     },
     "execution_count": 45,
     "metadata": {},
     "output_type": "execute_result"
    }
   ],
   "source": [
    "emp_obj.set_name(\"Etish\")\n",
    "emp_obj.set_age(30)\n",
    "emp_obj.get_age()"
   ]
  },
  {
   "cell_type": "markdown",
   "id": "da57d43d-f833-4c95-abb5-5afdff6d94d4",
   "metadata": {},
   "source": [
    "### Problem_5: What is overriding in python? Write a python code to demonstrate method overriding."
   ]
  },
  {
   "cell_type": "markdown",
   "id": "db891d15-186b-4512-8f31-08c4a0b88237",
   "metadata": {},
   "source": [
    "### Overriding:\n",
    "  - Method overriding is a feature of object-oriented programming that allows a subclass to provide a different implementation of a method that is already defined in its parent class. The overridden method in the subclass has the same name, but different functionality compared to the method in the parent class. Method overriding is used to implement polymorphism and to customize the behavior of methods in subclasses."
   ]
  },
  {
   "cell_type": "code",
   "execution_count": 4,
   "id": "812ead6d-8325-4a68-a3f7-33db79817891",
   "metadata": {},
   "outputs": [
    {
     "name": "stdout",
     "output_type": "stream",
     "text": [
      "Animal makes a generic sound.\n"
     ]
    }
   ],
   "source": [
    "## Example of method overriding\n",
    "class Animal:\n",
    "    def make_sound(self):\n",
    "        print(\"Animal makes a generic sound.\")\n",
    "\n",
    "class Dog(Animal):\n",
    "    def make_sound(self):\n",
    "        print(\"Dog barks.\")\n",
    "\n",
    "class Cat(Animal):\n",
    "    def make_sound(self):\n",
    "        print(\"Cat meows.\")\n",
    "        \n",
    "# Creating instances of the classes\n",
    "animal = Animal()\n",
    "dog = Dog()\n",
    "cat = Cat()\n",
    "\n",
    "# Calling make_sound() method of each instance\n",
    "animal.make_sound()"
   ]
  },
  {
   "cell_type": "code",
   "execution_count": 5,
   "id": "2e42c208-145a-4088-91e6-3bfb865db733",
   "metadata": {},
   "outputs": [
    {
     "name": "stdout",
     "output_type": "stream",
     "text": [
      "Dog barks.\n"
     ]
    }
   ],
   "source": [
    "dog.make_sound()"
   ]
  },
  {
   "cell_type": "code",
   "execution_count": 6,
   "id": "8a7e5ee4-1bc5-4db4-89e2-37df18c55186",
   "metadata": {},
   "outputs": [
    {
     "name": "stdout",
     "output_type": "stream",
     "text": [
      "Cat meows.\n"
     ]
    }
   ],
   "source": [
    "cat.make_sound()"
   ]
  }
 ],
 "metadata": {
  "kernelspec": {
   "display_name": "Python 3 (ipykernel)",
   "language": "python",
   "name": "python3"
  },
  "language_info": {
   "codemirror_mode": {
    "name": "ipython",
    "version": 3
   },
   "file_extension": ".py",
   "mimetype": "text/x-python",
   "name": "python",
   "nbconvert_exporter": "python",
   "pygments_lexer": "ipython3",
   "version": "3.10.8"
  }
 },
 "nbformat": 4,
 "nbformat_minor": 5
}
