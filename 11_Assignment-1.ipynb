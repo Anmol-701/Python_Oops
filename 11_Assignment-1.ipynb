{
 "cells": [
  {
   "cell_type": "markdown",
   "id": "2f5995ca-e670-4994-932d-764b8dd4a775",
   "metadata": {},
   "source": [
    "### Problem_1: Explain Class and Object with respect to Object-Oriented Programming. Give a suitable example."
   ]
  },
  {
   "cell_type": "markdown",
   "id": "bd874eca-5fe4-4a9d-8b31-bcb066f3c52d",
   "metadata": {},
   "source": [
    "### Class: It is a blueprint or template for creating an object, each with its own unique state and behavior.\n",
    "### Objects: It is an instance of a class. It is a concrete entity that can be created based on the class definition. Objects have their own unique identity, state, and behavior.They can interact with other objects, perform actions, and hold data."
   ]
  },
  {
   "cell_type": "code",
   "execution_count": 11,
   "id": "12388527-54aa-4bb5-a50e-05820d3fd4cd",
   "metadata": {},
   "outputs": [],
   "source": [
    "## Example\n",
    "class car:\n",
    "    def __init__(self,name,color,year):\n",
    "        self.name=name\n",
    "        self.color=color\n",
    "        self.year=year\n",
    "    def start_engine(self):\n",
    "        print(f\"{self.name}'s engine started...\")\n",
    "    def stop_engine(self):\n",
    "        print(\"Engine Stopped...\")\n",
    "    def drive(self):\n",
    "        print(f\"{self.name} is being driven...\")"
   ]
  },
  {
   "cell_type": "code",
   "execution_count": 12,
   "id": "5b5d376b-ead8-4d70-9989-c02f1693bdd5",
   "metadata": {},
   "outputs": [
    {
     "name": "stdout",
     "output_type": "stream",
     "text": [
      "Toyota's engine started...\n"
     ]
    }
   ],
   "source": [
    "## Creating the Object of class \"car\"\n",
    "car_obj=car(\"Toyota\",\"White\",2010)\n",
    "car_obj.start_engine()"
   ]
  },
  {
   "cell_type": "code",
   "execution_count": 14,
   "id": "f0f2a9a4-8421-40e3-a2c3-ec007330a18a",
   "metadata": {},
   "outputs": [
    {
     "name": "stdout",
     "output_type": "stream",
     "text": [
      "Range Rover is being driven...\n"
     ]
    }
   ],
   "source": [
    "## Creating another object of class \"car\"\n",
    "car_obj2= car(\"Range Rover\",\"Black\",2022)\n",
    "car_obj2.drive()"
   ]
  },
  {
   "cell_type": "markdown",
   "id": "e2e22567-eb7a-46af-b36d-c219bdfec4dc",
   "metadata": {},
   "source": [
    "### Problem_2: Name four pillar of OOPs."
   ]
  },
  {
   "cell_type": "markdown",
   "id": "35b914fb-772c-46b5-9bf5-fad5b214eb17",
   "metadata": {},
   "source": [
    "- Encapsulation\n",
    "- Inheritance\n",
    "- Polymorphism\n",
    "- Abstraction"
   ]
  },
  {
   "cell_type": "markdown",
   "id": "134f356c-04f1-490f-bd09-60ca17e03d99",
   "metadata": {},
   "source": [
    "### Problem_3: Why self is used in OOPS?"
   ]
  },
  {
   "cell_type": "markdown",
   "id": "66555d30-b1af-41dd-bedf-cd90d4855b7d",
   "metadata": {},
   "source": [
    "- This keyword is used to refer to the instance of a class within its own methods. It is a parameter that allows accessing the attributes and methods of the instance.\n",
    "- The self parameter is the first parameter of instance methods in Python. By convention, it is named self, but you can choose any valid variable name."
   ]
  },
  {
   "cell_type": "markdown",
   "id": "acf80208-dd6f-48e9-b1bf-1fa948426493",
   "metadata": {},
   "source": [
    "### Problem_4: What is inheritance? Give an example for each types of inheritance."
   ]
  },
  {
   "cell_type": "markdown",
   "id": "271ce37c-0c8a-4ea6-abc1-df7e043cc489",
   "metadata": {},
   "source": [
    "- It means creating a new class based on already existing class.\n",
    "- We use inheritance to inherit the property of already existing class.\n",
    "- The best use case of inheritance is Reusability."
   ]
  },
  {
   "cell_type": "markdown",
   "id": "404b2193-2f5c-4e1c-b1c6-ef4eaab61db0",
   "metadata": {},
   "source": [
    "## Single Inheritance:\n",
    "  - Drived class inherits from single base class"
   ]
  },
  {
   "cell_type": "code",
   "execution_count": 15,
   "id": "38d536c6-b363-481e-9853-8c0f1d036022",
   "metadata": {},
   "outputs": [],
   "source": [
    "## Example_single-inhertance\n",
    "class Phone:\n",
    "    def ring(self):\n",
    "        print(\"Phone is Ringing\")\n",
    "class Smart_phone(Phone):\n",
    "    def camera(self):\n",
    "        print(\"Opening Camera...\")"
   ]
  },
  {
   "cell_type": "code",
   "execution_count": 17,
   "id": "0e0740ee-1ef8-4f37-b1be-ef2c97c67228",
   "metadata": {},
   "outputs": [
    {
     "name": "stdout",
     "output_type": "stream",
     "text": [
      "Phone is Ringing\n"
     ]
    }
   ],
   "source": [
    "## Creating object of \"Smart_phone\" class\n",
    "obj_Smart_phone=Smart_phone()\n",
    "obj_Smart_phone.ring()"
   ]
  },
  {
   "cell_type": "markdown",
   "id": "c6edc796-5f94-401c-b150-3ba51e375c70",
   "metadata": {},
   "source": [
    "## Multiple Inhertance:\n",
    "  - Derived from multiple base classes"
   ]
  },
  {
   "cell_type": "code",
   "execution_count": 19,
   "id": "3b88c25c-2b75-4e0b-9f09-7d06326e0f7b",
   "metadata": {},
   "outputs": [],
   "source": [
    "## Example of mulitple inhertance\n",
    "class Animal:\n",
    "    def walk(self):\n",
    "        print(\"Animal is Walking...\")\n",
    "class Dog:\n",
    "    def eat(self):\n",
    "        print(\"Animal is Eating\")\n",
    "class cat(Animal,Dog):\n",
    "    pass"
   ]
  },
  {
   "cell_type": "code",
   "execution_count": 21,
   "id": "1b26749f-7504-4f4b-aa1b-b6d7a246fc9f",
   "metadata": {},
   "outputs": [
    {
     "name": "stdout",
     "output_type": "stream",
     "text": [
      "Animal is Walking...\n"
     ]
    }
   ],
   "source": [
    "## Creating object of \"cat\" class\n",
    "obj_cat=cat()\n",
    "obj_cat.walk()"
   ]
  },
  {
   "cell_type": "markdown",
   "id": "4b2d8e8f-6a02-436d-9e51-e2013d34d084",
   "metadata": {},
   "source": [
    "### Multilevel Inhertance:\n",
    "  - Multilevel inheritance refers to a chain of inheritance where a derived class becomes the base class for another class."
   ]
  },
  {
   "cell_type": "code",
   "execution_count": 5,
   "id": "a2240d3e-cca1-475b-b344-bef9a5761185",
   "metadata": {},
   "outputs": [],
   "source": [
    "## Example of Mulitlevel inhertance\n",
    "class car:\n",
    "    def drive(self):\n",
    "        print(\"The car is being driven\")\n",
    "class Electric(car):\n",
    "    def charge(self):\n",
    "        print(\"The car is being charged\")\n",
    "class Tesla(Electric):\n",
    "    def automode(self):\n",
    "        print(\"Car is in automode\")"
   ]
  },
  {
   "cell_type": "code",
   "execution_count": 6,
   "id": "27c4ed90-cc27-45c2-b280-9790f9a5ed91",
   "metadata": {},
   "outputs": [
    {
     "name": "stdout",
     "output_type": "stream",
     "text": [
      "The car is being charged\n"
     ]
    }
   ],
   "source": [
    "#3 Creating object of \"Tesla\" class\n",
    "obj_tesla=Tesla()\n",
    "obj_tesla.charge()"
   ]
  },
  {
   "cell_type": "code",
   "execution_count": null,
   "id": "6b2d75e3-4800-412c-9497-091e3b02f6e2",
   "metadata": {},
   "outputs": [],
   "source": []
  }
 ],
 "metadata": {
  "kernelspec": {
   "display_name": "Python 3 (ipykernel)",
   "language": "python",
   "name": "python3"
  },
  "language_info": {
   "codemirror_mode": {
    "name": "ipython",
    "version": 3
   },
   "file_extension": ".py",
   "mimetype": "text/x-python",
   "name": "python",
   "nbconvert_exporter": "python",
   "pygments_lexer": "ipython3",
   "version": "3.10.8"
  }
 },
 "nbformat": 4,
 "nbformat_minor": 5
}
