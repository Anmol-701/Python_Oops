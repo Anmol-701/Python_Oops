{
 "cells": [
  {
   "cell_type": "code",
   "execution_count": 29,
   "id": "800fcc92-f9e3-4942-a203-29f24ebca74b",
   "metadata": {},
   "outputs": [],
   "source": [
    "class pwskills:\n",
    "    def __init__(self,course_price,course_name):\n",
    "        self.__course_price=course_price #-->Private\n",
    "        self.course_name=course_name\n",
    "        \n",
    "    @property #-- with the help of this decorator we are able to access property of particular class\n",
    "    def course_price_access(self):\n",
    "        return self.__course_price\n",
    "    \n",
    "    @course_price_access.setter ##--with the help of setter user can able to change the price of course\n",
    "    def course_price_set(self,price):\n",
    "        if price<=3500:\n",
    "            pass\n",
    "        else:\n",
    "            self.__course_price=price\n",
    "            \n",
    "    # --Giving an access to delete this private variable\n",
    "    @course_price_access.deleter\n",
    "    def course_price_delete(self):\n",
    "        del self.__course_price"
   ]
  },
  {
   "cell_type": "code",
   "execution_count": 30,
   "id": "8ab39694-19ca-4cb7-8eaf-0fcc3a9dd249",
   "metadata": {},
   "outputs": [],
   "source": [
    "pw= pwskills(3500,\"Data Science Masters\")"
   ]
  },
  {
   "cell_type": "code",
   "execution_count": 31,
   "id": "284175ef-2851-4059-9149-70adefb82a88",
   "metadata": {},
   "outputs": [
    {
     "data": {
      "text/plain": [
       "3500"
      ]
     },
     "execution_count": 31,
     "metadata": {},
     "output_type": "execute_result"
    }
   ],
   "source": [
    "pw.course_price_access ## -- Here you can see that now we are able to access the course_price using property decorator"
   ]
  },
  {
   "cell_type": "code",
   "execution_count": 32,
   "id": "622c1e7a-99b2-4f1b-8ba5-8bdcfccdf1ef",
   "metadata": {},
   "outputs": [],
   "source": [
    "del pw.course_price_delete  #--After this private variable will has been deleted"
   ]
  },
  {
   "cell_type": "code",
   "execution_count": 19,
   "id": "b07720be-319b-40f4-8533-ae840800fe71",
   "metadata": {},
   "outputs": [],
   "source": [
    "pw.course_price_set=4500"
   ]
  },
  {
   "cell_type": "code",
   "execution_count": 20,
   "id": "1c71f86a-21eb-450a-b471-bf4f4169be62",
   "metadata": {},
   "outputs": [
    {
     "data": {
      "text/plain": [
       "4500"
      ]
     },
     "execution_count": 20,
     "metadata": {},
     "output_type": "execute_result"
    }
   ],
   "source": [
    "pw.course_price_access"
   ]
  },
  {
   "cell_type": "code",
   "execution_count": 3,
   "id": "250e701c-dc31-4872-84bc-21fcfb41cbf7",
   "metadata": {},
   "outputs": [
    {
     "data": {
      "text/plain": [
       "'Data Science Masters'"
      ]
     },
     "execution_count": 3,
     "metadata": {},
     "output_type": "execute_result"
    }
   ],
   "source": [
    "pw.course_name"
   ]
  },
  {
   "cell_type": "code",
   "execution_count": 7,
   "id": "8ee6865e-5aa0-4422-ae34-a663be4ed006",
   "metadata": {},
   "outputs": [
    {
     "data": {
      "text/plain": [
       "3500"
      ]
     },
     "execution_count": 7,
     "metadata": {},
     "output_type": "execute_result"
    }
   ],
   "source": [
    "## only as a creater i am able to access the course_price because i know the class name\n",
    "pw._pwskills__course_price"
   ]
  },
  {
   "cell_type": "code",
   "execution_count": null,
   "id": "60c11edc-6fe5-4646-a308-1f886d2e3c38",
   "metadata": {},
   "outputs": [],
   "source": []
  }
 ],
 "metadata": {
  "kernelspec": {
   "display_name": "Python 3 (ipykernel)",
   "language": "python",
   "name": "python3"
  },
  "language_info": {
   "codemirror_mode": {
    "name": "ipython",
    "version": 3
   },
   "file_extension": ".py",
   "mimetype": "text/x-python",
   "name": "python",
   "nbconvert_exporter": "python",
   "pygments_lexer": "ipython3",
   "version": "3.10.8"
  }
 },
 "nbformat": 4,
 "nbformat_minor": 5
}
