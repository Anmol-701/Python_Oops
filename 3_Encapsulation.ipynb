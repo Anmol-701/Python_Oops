{
 "cells": [
  {
   "cell_type": "markdown",
   "id": "05a6cf78-a648-4bf1-b858-d976e6f948cc",
   "metadata": {},
   "source": [
    "## Encapsulation:\n",
    "   - Allow us to prevent any direct modification of data in OOPs programming language.\n",
    "   - It is kind of capsule which doesn't allow user to manipulate the data which is already defined."
   ]
  },
  {
   "cell_type": "code",
   "execution_count": 8,
   "id": "5577d507-8072-45b3-b667-23a200be5411",
   "metadata": {},
   "outputs": [],
   "source": [
    "## Let's suppose we create a class named test;\n",
    "class test:\n",
    "    def __init__(self,a,b):\n",
    "        self.a=a\n",
    "        self.b=b"
   ]
  },
  {
   "cell_type": "code",
   "execution_count": 3,
   "id": "8a3a58ec-f6c4-4dcd-a2aa-873dad11cfed",
   "metadata": {},
   "outputs": [],
   "source": [
    "t=test(45,56)"
   ]
  },
  {
   "cell_type": "code",
   "execution_count": 9,
   "id": "b171e04d-0155-410e-a551-e5975ecd23dc",
   "metadata": {},
   "outputs": [
    {
     "data": {
      "text/plain": [
       "334"
      ]
     },
     "execution_count": 9,
     "metadata": {},
     "output_type": "execute_result"
    }
   ],
   "source": [
    "t.a ## we can access a directly"
   ]
  },
  {
   "cell_type": "code",
   "execution_count": 7,
   "id": "f5e57400-b963-4d29-9fde-2b5c8f0123bd",
   "metadata": {},
   "outputs": [
    {
     "data": {
      "text/plain": [
       "334"
      ]
     },
     "execution_count": 7,
     "metadata": {},
     "output_type": "execute_result"
    }
   ],
   "source": [
    "## we can also assign the value to a\n",
    "t.a=334\n",
    "t.a"
   ]
  },
  {
   "cell_type": "markdown",
   "id": "d48260c9-cd10-4bdf-a1e9-033208e0e7a6",
   "metadata": {},
   "source": [
    "### If we don't want to allow this kind of situation that no one can assign the value to already declared variable then we use \"Encapsulation\""
   ]
  },
  {
   "cell_type": "code",
   "execution_count": 13,
   "id": "2e7ce0f7-6233-4d99-87af-9c4ed203fa17",
   "metadata": {},
   "outputs": [],
   "source": [
    "class car:\n",
    "    \n",
    "    def __init__(self, year,make,model,speed):\n",
    "        \n",
    "        ## We made all of these variables as private by attaching underscore(__);\n",
    "        self.__year =year \n",
    "        self.__make =make\n",
    "        self.__model=model\n",
    "        self.__speed=0\n",
    "        \n",
    "    # We have to make separate function to make allow to user to set the speed;\n",
    "    def set_speed(self,speed):\n",
    "        self.__speed = 0 if speed < 0 else speed\n",
    "    \n",
    "    # We Can also make separate function to allow user to access the speed\n",
    "    def get_speed(self):\n",
    "        return self.__speed"
   ]
  },
  {
   "cell_type": "code",
   "execution_count": 20,
   "id": "f61bc1fc-8ba0-4569-81e3-c93036de1f6a",
   "metadata": {},
   "outputs": [
    {
     "data": {
      "text/plain": [
       "233"
      ]
     },
     "execution_count": 20,
     "metadata": {},
     "output_type": "execute_result"
    }
   ],
   "source": [
    "obj_car.get_speed()"
   ]
  },
  {
   "cell_type": "code",
   "execution_count": 18,
   "id": "d83ac72c-71dc-4561-af1f-7fdd7f390960",
   "metadata": {},
   "outputs": [],
   "source": [
    "obj_car.set_speed(233) ## User can only able to set the speed "
   ]
  },
  {
   "cell_type": "code",
   "execution_count": 15,
   "id": "ecd5e4a5-96ed-4289-9c84-1df13aa74c0e",
   "metadata": {},
   "outputs": [],
   "source": [
    "obj_car=car(2021,\"Toyota\" ,\"Innova\",12)"
   ]
  },
  {
   "cell_type": "code",
   "execution_count": 16,
   "id": "e626c0d0-08b7-4b03-b625-93f0ec158441",
   "metadata": {},
   "outputs": [
    {
     "data": {
      "text/plain": [
       "2021"
      ]
     },
     "execution_count": 16,
     "metadata": {},
     "output_type": "execute_result"
    }
   ],
   "source": [
    "## As a creater of \"car\" class i will be able to update it or access it because only i know the variable name.\n",
    "obj_car._car__year"
   ]
  },
  {
   "cell_type": "code",
   "execution_count": 19,
   "id": "e7a6c896-7956-4114-97eb-11c769bcdac2",
   "metadata": {},
   "outputs": [
    {
     "data": {
      "text/plain": [
       "233"
      ]
     },
     "execution_count": 19,
     "metadata": {},
     "output_type": "execute_result"
    }
   ],
   "source": [
    "## As a owner of the class \"car\" only i am able to access the speed\n",
    "obj_car._car__speed "
   ]
  },
  {
   "cell_type": "markdown",
   "id": "f8dae9fd-11f9-4e4c-81c5-6f9ef9db1cd0",
   "metadata": {},
   "source": [
    "### Example_2"
   ]
  },
  {
   "cell_type": "code",
   "execution_count": 2,
   "id": "0950ca93-f1ae-43ef-be5f-de88224c83ab",
   "metadata": {},
   "outputs": [],
   "source": [
    "class bank_account:\n",
    "    def __init__(self,balance):\n",
    "        self.__balance=balance\n",
    "    def deposite (self,amount):\n",
    "        self.__balance = self.__balance + amount\n",
    "    def withdraw(self,amount):\n",
    "        if self.__balance >= amount:\n",
    "            self.__balance = self.__balance - amount\n",
    "            \n",
    "            return True\n",
    "        else:\n",
    "            return False\n",
    "    def get_balance(self):\n",
    "        return self.__balance"
   ]
  },
  {
   "cell_type": "code",
   "execution_count": 3,
   "id": "eb354c89-3876-4886-bf67-126717dedaa0",
   "metadata": {},
   "outputs": [],
   "source": [
    "obj_bank_account= bank_account(1000)"
   ]
  },
  {
   "cell_type": "code",
   "execution_count": 4,
   "id": "917bff7a-1c49-4714-a702-cdc15a8a21fa",
   "metadata": {},
   "outputs": [
    {
     "data": {
      "text/plain": [
       "1000"
      ]
     },
     "execution_count": 4,
     "metadata": {},
     "output_type": "execute_result"
    }
   ],
   "source": [
    "obj_bank_account.get_balance()"
   ]
  },
  {
   "cell_type": "code",
   "execution_count": 5,
   "id": "75f2f5de-bc5e-4987-941e-625859b14af3",
   "metadata": {},
   "outputs": [],
   "source": [
    "obj_bank_account.deposite(6000)"
   ]
  },
  {
   "cell_type": "code",
   "execution_count": 6,
   "id": "ba36d483-a5ab-4ea3-9f63-d618f6950b7f",
   "metadata": {},
   "outputs": [
    {
     "data": {
      "text/plain": [
       "7000"
      ]
     },
     "execution_count": 6,
     "metadata": {},
     "output_type": "execute_result"
    }
   ],
   "source": [
    "obj_bank_account.get_balance()"
   ]
  },
  {
   "cell_type": "code",
   "execution_count": 8,
   "id": "b6950a65-88b4-4eda-bce5-355c0d219564",
   "metadata": {},
   "outputs": [
    {
     "data": {
      "text/plain": [
       "False"
      ]
     },
     "execution_count": 8,
     "metadata": {},
     "output_type": "execute_result"
    }
   ],
   "source": [
    "obj_bank_account.withdraw(10000) ## Will return False because there is no enough balance to withdraw;"
   ]
  },
  {
   "cell_type": "code",
   "execution_count": 9,
   "id": "7d0b6bed-2c37-4c6e-9b8b-9f91a978a0ce",
   "metadata": {},
   "outputs": [
    {
     "data": {
      "text/plain": [
       "True"
      ]
     },
     "execution_count": 9,
     "metadata": {},
     "output_type": "execute_result"
    }
   ],
   "source": [
    "obj_bank_account.withdraw(2000)"
   ]
  },
  {
   "cell_type": "code",
   "execution_count": 10,
   "id": "38502b50-622d-4652-9031-82a06056e763",
   "metadata": {},
   "outputs": [
    {
     "data": {
      "text/plain": [
       "5000"
      ]
     },
     "execution_count": 10,
     "metadata": {},
     "output_type": "execute_result"
    }
   ],
   "source": [
    "obj_bank_account.get_balance()"
   ]
  },
  {
   "cell_type": "code",
   "execution_count": null,
   "id": "fd4b460e-21c3-4ad8-9788-4446873dfce0",
   "metadata": {},
   "outputs": [],
   "source": []
  }
 ],
 "metadata": {
  "kernelspec": {
   "display_name": "Python 3 (ipykernel)",
   "language": "python",
   "name": "python3"
  },
  "language_info": {
   "codemirror_mode": {
    "name": "ipython",
    "version": 3
   },
   "file_extension": ".py",
   "mimetype": "text/x-python",
   "name": "python",
   "nbconvert_exporter": "python",
   "pygments_lexer": "ipython3",
   "version": "3.10.8"
  }
 },
 "nbformat": 4,
 "nbformat_minor": 5
}
