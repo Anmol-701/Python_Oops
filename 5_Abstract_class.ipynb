{
 "cells": [
  {
   "cell_type": "markdown",
   "id": "32b4b310-539b-469d-b023-43f4ec979f16",
   "metadata": {},
   "source": [
    "## Abstract_class:\n",
    "   - Its basically a blueprint of class that we used to create.\n",
    "   - A class which contains one or more abstract methods is called an abstract class.\n",
    "   - An abstract method is a method that has a declaration but does not have an implementation."
   ]
  },
  {
   "cell_type": "code",
   "execution_count": 11,
   "id": "b5cab3de-9514-40b5-be02-550386591ebd",
   "metadata": {},
   "outputs": [],
   "source": [
    "import abc ## --> This is the library for abstract method\n",
    "class pwskills:\n",
    "    @abc.abstractmethod  ##-> In this way i am trying to make all the methods as a abstract;\n",
    "    def student_details(self):\n",
    "        pass\n",
    "    @abc.abstractmethod\n",
    "    def student_assignment(self):\n",
    "        pass\n",
    "    @abc.abstractmethod\n",
    "    def student_marks(self):\n",
    "        pass"
   ]
  },
  {
   "cell_type": "code",
   "execution_count": 12,
   "id": "1088fe62-d68c-4889-9279-ed2bec92fd33",
   "metadata": {},
   "outputs": [],
   "source": [
    "class data_science(pwskills):\n",
    "    def student_detail(self):\n",
    "        return \"it will try to return a details of data science masters\"\n",
    "    def student_assignment(self):\n",
    "        return \"It will return a details of student assignment for data science master\""
   ]
  },
  {
   "cell_type": "code",
   "execution_count": 13,
   "id": "0ce71411-3d68-4344-9629-b94e008b4b1b",
   "metadata": {},
   "outputs": [],
   "source": [
    "class web_dev(pwskills):\n",
    "    def student_detail(self):\n",
    "        return \"this will return a details of web dev\"\n",
    "    def student_marks(self):\n",
    "        return \"This will return marks of web dev class\""
   ]
  },
  {
   "cell_type": "code",
   "execution_count": 10,
   "id": "6f6aeae7-dd96-49b3-93ca-6d12faee7607",
   "metadata": {},
   "outputs": [
    {
     "data": {
      "text/plain": [
       "'it will try to return a details of data science masters'"
      ]
     },
     "execution_count": 10,
     "metadata": {},
     "output_type": "execute_result"
    }
   ],
   "source": [
    "ds = data_science()\n",
    "ds.student_detail()"
   ]
  },
  {
   "cell_type": "code",
   "execution_count": 14,
   "id": "c9dcef86-f5e4-47b3-af8c-b73695b0e111",
   "metadata": {},
   "outputs": [
    {
     "data": {
      "text/plain": [
       "'this will return a details of web dev'"
      ]
     },
     "execution_count": 14,
     "metadata": {},
     "output_type": "execute_result"
    }
   ],
   "source": [
    "wb=web_dev()\n",
    "wb.student_detail()"
   ]
  },
  {
   "cell_type": "code",
   "execution_count": null,
   "id": "ea4338eb-a893-4215-945f-f7f76f2da2db",
   "metadata": {},
   "outputs": [],
   "source": []
  }
 ],
 "metadata": {
  "kernelspec": {
   "display_name": "Python 3 (ipykernel)",
   "language": "python",
   "name": "python3"
  },
  "language_info": {
   "codemirror_mode": {
    "name": "ipython",
    "version": 3
   },
   "file_extension": ".py",
   "mimetype": "text/x-python",
   "name": "python",
   "nbconvert_exporter": "python",
   "pygments_lexer": "ipython3",
   "version": "3.10.8"
  }
 },
 "nbformat": 4,
 "nbformat_minor": 5
}
