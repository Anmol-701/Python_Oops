{
 "cells": [
  {
   "cell_type": "markdown",
   "id": "0397aa3f-86af-4316-8a81-810b3cda0fe0",
   "metadata": {},
   "source": [
    "## Static method means whenever i defined something as static it will available across all the class;\n",
    "## Static method always try to reduce a memory utilization;"
   ]
  },
  {
   "cell_type": "code",
   "execution_count": 1,
   "id": "130eddc9-df8d-452f-b68a-0fd6877ad578",
   "metadata": {},
   "outputs": [],
   "source": [
    "class pwskills1:\n",
    "    def student_details(self,name,mail_id,number):\n",
    "        print(name,mail_id,number)"
   ]
  },
  {
   "cell_type": "code",
   "execution_count": 3,
   "id": "e397caf4-3575-4e82-a2bd-da73e2de8154",
   "metadata": {},
   "outputs": [],
   "source": [
    "pw=pwskills1()"
   ]
  },
  {
   "cell_type": "code",
   "execution_count": 4,
   "id": "d21b054f-5312-4fd1-9308-904ce8f925e8",
   "metadata": {},
   "outputs": [
    {
     "name": "stdout",
     "output_type": "stream",
     "text": [
      "anmol anmol@gmail.com 9076544\n"
     ]
    }
   ],
   "source": [
    "pw.student_details(\"anmol\",\"anmol@gmail.com\",9076544)"
   ]
  },
  {
   "cell_type": "code",
   "execution_count": 11,
   "id": "140a68d5-05af-4df3-8f0d-3b7fa277c809",
   "metadata": {},
   "outputs": [],
   "source": [
    "class pwskills2:\n",
    "    def student_details(self,name,mail_id,number):\n",
    "        print(name,mail_id,number)\n",
    "        \n",
    "    \n",
    "    @staticmethod\n",
    "    def mentor_class(list_mentor):\n",
    "        print(list_mentor)\n",
    "    \n",
    "    def mentor(self,mentor_list):\n",
    "        print(mentor_list)"
   ]
  },
  {
   "cell_type": "code",
   "execution_count": 12,
   "id": "b495348b-b0e4-4832-99c4-252bad2ba935",
   "metadata": {},
   "outputs": [],
   "source": [
    "pw2=pwskills2()"
   ]
  },
  {
   "cell_type": "code",
   "execution_count": 13,
   "id": "e679408c-1710-46ca-9e8e-be960a69bfda",
   "metadata": {},
   "outputs": [
    {
     "name": "stdout",
     "output_type": "stream",
     "text": [
      "['krish', 'sudh']\n"
     ]
    }
   ],
   "source": [
    "pw2.mentor([\"krish\",\"sudh\"])"
   ]
  },
  {
   "cell_type": "code",
   "execution_count": 14,
   "id": "adabc2e7-5d20-47a9-b689-e7fd2c499f4a",
   "metadata": {},
   "outputs": [
    {
     "name": "stdout",
     "output_type": "stream",
     "text": [
      "['sudh', 'krish']\n"
     ]
    }
   ],
   "source": [
    "pwskills2.mentor_class([\"sudh\",\"krish\"])"
   ]
  },
  {
   "cell_type": "code",
   "execution_count": 17,
   "id": "d94f021d-90bd-485b-8b55-de0fa05a6af4",
   "metadata": {},
   "outputs": [],
   "source": [
    "## -->Let's try to find out whether i'm able to access static method inside instance method\n",
    "class pwskills3:\n",
    "    def student_details(self,name,mail_id,number):\n",
    "        print(name,mail_id,number)\n",
    "        \n",
    "    @staticmethod\n",
    "    def mentor_mail_id(mail_id):\n",
    "        print(mail_id)\n",
    "    ## Static method means whenever i defined something as static it will available across all the class\n",
    "    @staticmethod\n",
    "    def mentor_class(list_mentor):\n",
    "        print(list_mentor)  \n",
    "        pwskills3.mentor_mail_id([\"krish@gmail.com\",\"sudh@gmail.com\"]) #-->we can also access the static method inside another static method\n",
    "    \n",
    "    @classmethod\n",
    "    def class_name(cls,class_name):\n",
    "        cls.mentor_class([\"sudh\",\"krish\"]) #-->yes! it is possible to access static method inside class methods\n",
    "        \n",
    "    def mentor(self,mentor_list):\n",
    "        print(mentor_list)\n",
    "        self.mentor_class([\"kri\",\"su\"])  #-->yes! it is possible to access static method inside instance methods"
   ]
  },
  {
   "cell_type": "code",
   "execution_count": 19,
   "id": "ff0309c6-6bd6-4b42-935f-11a365febf5c",
   "metadata": {},
   "outputs": [],
   "source": [
    "pw3= pwskills3()"
   ]
  },
  {
   "cell_type": "code",
   "execution_count": 20,
   "id": "179b8e55-2d1f-4be8-afef-d845b42c53b0",
   "metadata": {},
   "outputs": [
    {
     "name": "stdout",
     "output_type": "stream",
     "text": [
      "mohan mohan@gmail.com 976654\n"
     ]
    }
   ],
   "source": [
    "pw3.student_details(\"mohan\",\"mohan@gmail.com\",976654)"
   ]
  },
  {
   "cell_type": "code",
   "execution_count": 21,
   "id": "8e480465-1b95-442a-ba09-7400884e0633",
   "metadata": {},
   "outputs": [
    {
     "name": "stdout",
     "output_type": "stream",
     "text": [
      "['krish@gmail.com', 'roy@gmail.com']\n"
     ]
    }
   ],
   "source": [
    "pw3.mentor_mail_id([\"krish@gmail.com\",\"roy@gmail.com\"])"
   ]
  },
  {
   "cell_type": "code",
   "execution_count": 22,
   "id": "ab472d4d-6809-4fc4-b6b7-dd0ee6837733",
   "metadata": {},
   "outputs": [
    {
     "name": "stdout",
     "output_type": "stream",
     "text": [
      "['sudh', 'krish']\n",
      "['krish@gmail.com', 'sudh@gmail.com']\n"
     ]
    }
   ],
   "source": [
    "pw3.class_name(\"data science masters\")"
   ]
  },
  {
   "cell_type": "code",
   "execution_count": null,
   "id": "6589aa9a-9efe-4ed2-9936-c6880436dfeb",
   "metadata": {},
   "outputs": [],
   "source": []
  }
 ],
 "metadata": {
  "kernelspec": {
   "display_name": "Python 3 (ipykernel)",
   "language": "python",
   "name": "python3"
  },
  "language_info": {
   "codemirror_mode": {
    "name": "ipython",
    "version": 3
   },
   "file_extension": ".py",
   "mimetype": "text/x-python",
   "name": "python",
   "nbconvert_exporter": "python",
   "pygments_lexer": "ipython3",
   "version": "3.10.8"
  }
 },
 "nbformat": 4,
 "nbformat_minor": 5
}
