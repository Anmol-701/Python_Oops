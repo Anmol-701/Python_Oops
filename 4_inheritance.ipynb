{
 "cells": [
  {
   "cell_type": "markdown",
   "id": "8c510d4b-476d-4de3-ac94-73e1f7806f47",
   "metadata": {},
   "source": [
    "## Inheritance:\n",
    "   - Means to access the features of another class.\n",
    "   - Reusability is the best use case of Inheritance."
   ]
  },
  {
   "cell_type": "code",
   "execution_count": 1,
   "id": "20ece711-5e06-42ff-b5b3-8366794b53a3",
   "metadata": {},
   "outputs": [],
   "source": [
    "## Example_1\n",
    "class Parent:\n",
    "    def test_parent(self):\n",
    "        print(\"This is Parent class\")"
   ]
  },
  {
   "cell_type": "code",
   "execution_count": 2,
   "id": "911bf1c9-7914-4b22-8327-7d7476d60b8a",
   "metadata": {},
   "outputs": [],
   "source": [
    "class Child(Parent):\n",
    "    pass"
   ]
  },
  {
   "cell_type": "code",
   "execution_count": 3,
   "id": "614abf7c-6ce4-4891-9428-69164d6c24e2",
   "metadata": {},
   "outputs": [],
   "source": [
    "child_obj=Child()"
   ]
  },
  {
   "cell_type": "code",
   "execution_count": 5,
   "id": "12e9c6f2-a4a0-4d07-acb4-876e90c6b40e",
   "metadata": {},
   "outputs": [
    {
     "name": "stdout",
     "output_type": "stream",
     "text": [
      "This is Parent class\n"
     ]
    }
   ],
   "source": [
    "child_obj.test_parent() ## -->Here we are able to access the method of \"Parent\" class by inheriting it;"
   ]
  },
  {
   "cell_type": "markdown",
   "id": "954b6e52-84b4-4017-afbd-1b3a966f6627",
   "metadata": {},
   "source": [
    "### There are many types of Inheritance:\n",
    "   - Multilevel inheritance\n",
    "   - Multiple inheritance"
   ]
  },
  {
   "cell_type": "code",
   "execution_count": 13,
   "id": "cec0b4c9-0809-4ca8-b08e-a4ed7f0b0145",
   "metadata": {},
   "outputs": [],
   "source": [
    "## Example of Multilevel inheritance\n",
    "class Class1:\n",
    "    def test_class1(self):\n",
    "        print(\"This is my class 1\")\n",
    "class Class2(Class1):\n",
    "    def test_class2(self):\n",
    "        print(\"This is my class 2\")\n",
    "class Class3(Class2):\n",
    "    def test_class3(self):\n",
    "        print(\"This is my class 3\")"
   ]
  },
  {
   "cell_type": "code",
   "execution_count": 9,
   "id": "d89a8098-d832-4c27-ba8b-14477f37e642",
   "metadata": {},
   "outputs": [],
   "source": [
    "obj_class3=Class3()"
   ]
  },
  {
   "cell_type": "code",
   "execution_count": 10,
   "id": "418f5451-fc08-400c-8141-fe631b20cbcd",
   "metadata": {},
   "outputs": [
    {
     "name": "stdout",
     "output_type": "stream",
     "text": [
      "This is my class 1\n"
     ]
    }
   ],
   "source": [
    "obj_class3.test_class1()"
   ]
  },
  {
   "cell_type": "code",
   "execution_count": 11,
   "id": "604d40ff-8b5e-47d4-8e28-219f53de1f92",
   "metadata": {},
   "outputs": [
    {
     "name": "stdout",
     "output_type": "stream",
     "text": [
      "This is my class 2\n"
     ]
    }
   ],
   "source": [
    "obj_class3.test_class2()"
   ]
  },
  {
   "cell_type": "code",
   "execution_count": 12,
   "id": "37292e6a-3b0b-4573-a1f3-d8cede8f8ff1",
   "metadata": {},
   "outputs": [
    {
     "name": "stdout",
     "output_type": "stream",
     "text": [
      "This is my class 3\n"
     ]
    }
   ],
   "source": [
    "obj_class3.test_class3()"
   ]
  },
  {
   "cell_type": "markdown",
   "id": "af687ee6-282c-4dc3-a7f6-5d23eee88974",
   "metadata": {},
   "source": [
    "### Here we can see that we can access all the methods from different classes by inheriting them."
   ]
  },
  {
   "cell_type": "code",
   "execution_count": 16,
   "id": "fb1428b6-f52b-4633-ad17-795a73026d57",
   "metadata": {},
   "outputs": [],
   "source": [
    "## Example of Multiple Inhertance\n",
    "class Class1:\n",
    "    def test_class1(self):\n",
    "        print(\"This is my class 1\")"
   ]
  },
  {
   "cell_type": "code",
   "execution_count": 17,
   "id": "a564ca76-1282-447c-ae35-d0cbb7ed0d28",
   "metadata": {},
   "outputs": [],
   "source": [
    "class Class2:\n",
    "    def test_class2(self):\n",
    "        print(\"This is my class 2\")"
   ]
  },
  {
   "cell_type": "code",
   "execution_count": 18,
   "id": "13af34ba-f0e5-4f78-82f6-86c33aee8e41",
   "metadata": {},
   "outputs": [],
   "source": [
    "class Class3(Class1,Class2): ##-->Here we inherit both Class1\n",
    "    pass\n",
    "    "
   ]
  },
  {
   "cell_type": "code",
   "execution_count": 19,
   "id": "463a121d-d3e6-4a1f-af04-d964265bd755",
   "metadata": {},
   "outputs": [],
   "source": [
    "obj_class3=Class3()"
   ]
  },
  {
   "cell_type": "code",
   "execution_count": 20,
   "id": "79175431-2fd1-49df-94fa-340e739aeaa8",
   "metadata": {},
   "outputs": [
    {
     "name": "stdout",
     "output_type": "stream",
     "text": [
      "This is my class 1\n"
     ]
    }
   ],
   "source": [
    "obj_class3.test_class1()"
   ]
  },
  {
   "cell_type": "code",
   "execution_count": 21,
   "id": "b980a44f-7017-4853-b11e-c8c63374f54a",
   "metadata": {},
   "outputs": [
    {
     "name": "stdout",
     "output_type": "stream",
     "text": [
      "This is my class 2\n"
     ]
    }
   ],
   "source": [
    "obj_class3.test_class2()"
   ]
  },
  {
   "cell_type": "code",
   "execution_count": null,
   "id": "17d77500-1c58-4fb0-9679-3a2b2a9f44e9",
   "metadata": {},
   "outputs": [],
   "source": []
  }
 ],
 "metadata": {
  "kernelspec": {
   "display_name": "Python 3 (ipykernel)",
   "language": "python",
   "name": "python3"
  },
  "language_info": {
   "codemirror_mode": {
    "name": "ipython",
    "version": 3
   },
   "file_extension": ".py",
   "mimetype": "text/x-python",
   "name": "python",
   "nbconvert_exporter": "python",
   "pygments_lexer": "ipython3",
   "version": "3.10.8"
  }
 },
 "nbformat": 4,
 "nbformat_minor": 5
}
