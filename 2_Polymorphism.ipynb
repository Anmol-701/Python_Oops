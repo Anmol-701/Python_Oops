{
 "cells": [
  {
   "cell_type": "markdown",
   "id": "6ee9ddc7-29ce-4a91-b551-04e9c0be9a3a",
   "metadata": {},
   "source": [
    "## Polymorphism\n",
    "  - Combination of two words Poly means multiple morphism means forms.\n",
    "  - We try to create a program which can behave according to the different circumstances."
   ]
  },
  {
   "cell_type": "code",
   "execution_count": 1,
   "id": "c5d30f73-bc44-4aaa-9634-5a73f6a7ef8e",
   "metadata": {},
   "outputs": [],
   "source": [
    "def test(a,b):\n",
    "    return a+b"
   ]
  },
  {
   "cell_type": "code",
   "execution_count": 2,
   "id": "b06f744a-eccc-4ca3-b924-2f713d7d0491",
   "metadata": {},
   "outputs": [
    {
     "data": {
      "text/plain": [
       "9"
      ]
     },
     "execution_count": 2,
     "metadata": {},
     "output_type": "execute_result"
    }
   ],
   "source": [
    "test(4,5)"
   ]
  },
  {
   "cell_type": "code",
   "execution_count": 5,
   "id": "f3881ca0-6901-426b-984a-b73b2f0ec101",
   "metadata": {},
   "outputs": [
    {
     "data": {
      "text/plain": [
       "'Anmol Rana'"
      ]
     },
     "execution_count": 5,
     "metadata": {},
     "output_type": "execute_result"
    }
   ],
   "source": [
    "test(\"Anmol \",\"Rana\")"
   ]
  },
  {
   "cell_type": "code",
   "execution_count": 7,
   "id": "6d47ad26-5c69-46de-b839-9962c2c727b5",
   "metadata": {},
   "outputs": [],
   "source": [
    "class data_science:\n",
    "    def syllabus(self):\n",
    "        print(\"This is my method for data science syllabus\")\n"
   ]
  },
  {
   "cell_type": "code",
   "execution_count": 8,
   "id": "c37dfd63-ce2e-444f-a680-b7b4be06ba38",
   "metadata": {},
   "outputs": [],
   "source": [
    "class web_dev:\n",
    "    def syllabus(self):\n",
    "        print(\"This is my method for web dev\")"
   ]
  },
  {
   "cell_type": "code",
   "execution_count": 15,
   "id": "a8fa8c08-2cb6-42d3-af5c-b9efccf615be",
   "metadata": {},
   "outputs": [],
   "source": [
    "def class_parcer(class_obj):\n",
    "    for i in class_obj:\n",
    "        i.syllabus()"
   ]
  },
  {
   "cell_type": "code",
   "execution_count": 10,
   "id": "bd5434e5-b926-425f-8d14-4a8bf6277769",
   "metadata": {},
   "outputs": [],
   "source": [
    "obj_data_science= data_science()  ## Creating a object of data_science class"
   ]
  },
  {
   "cell_type": "code",
   "execution_count": 11,
   "id": "3e7c5db1-393b-42af-bef1-a9401560e886",
   "metadata": {},
   "outputs": [],
   "source": [
    "obj_web_dev=web_dev()   ## Creating a object of web_dev class"
   ]
  },
  {
   "cell_type": "code",
   "execution_count": 12,
   "id": "936e62dd-1436-47ca-b545-92b46b22c366",
   "metadata": {},
   "outputs": [],
   "source": [
    "class_obj = [obj_data_science,obj_web_dev]"
   ]
  },
  {
   "cell_type": "code",
   "execution_count": 16,
   "id": "a2ea4a0e-c05d-4afe-8795-dcbb34d3f92c",
   "metadata": {},
   "outputs": [
    {
     "name": "stdout",
     "output_type": "stream",
     "text": [
      "This is my method for data science syllabus\n",
      "This is my method for web dev\n"
     ]
    }
   ],
   "source": [
    "class_parcer(class_obj)"
   ]
  },
  {
   "cell_type": "code",
   "execution_count": null,
   "id": "b4617c21-e86f-424d-8f0b-5e0db7c8c917",
   "metadata": {},
   "outputs": [],
   "source": []
  }
 ],
 "metadata": {
  "kernelspec": {
   "display_name": "Python 3 (ipykernel)",
   "language": "python",
   "name": "python3"
  },
  "language_info": {
   "codemirror_mode": {
    "name": "ipython",
    "version": 3
   },
   "file_extension": ".py",
   "mimetype": "text/x-python",
   "name": "python",
   "nbconvert_exporter": "python",
   "pygments_lexer": "ipython3",
   "version": "3.10.8"
  }
 },
 "nbformat": 4,
 "nbformat_minor": 5
}
