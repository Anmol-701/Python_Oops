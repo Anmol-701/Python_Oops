{
 "cells": [
  {
   "cell_type": "markdown",
   "id": "e985decb-e213-4581-ac9b-c819b5b6e2b6",
   "metadata": {},
   "source": [
    "## Decorators:\n",
    "   - It is a design pattern that allows you to modify the functionality of a function by wrapping it in another function.\n",
    "   - The outer function is called the decorator, which takes the original function as an argument and returns a modified version of it."
   ]
  },
  {
   "cell_type": "code",
   "execution_count": 2,
   "id": "17f9393f-ecd4-4490-8fa9-53110306bccc",
   "metadata": {},
   "outputs": [],
   "source": [
    "def test():\n",
    "    pass"
   ]
  },
  {
   "cell_type": "code",
   "execution_count": 12,
   "id": "bfe4b564-6e0d-4082-bc5d-3b852fc32f64",
   "metadata": {},
   "outputs": [],
   "source": [
    "## Exampple_1 of decorator function;\n",
    "def deco(func):\n",
    "    def inner_deco():\n",
    "        print(\"This is the start of my fun\")\n",
    "        func()\n",
    "        print(\"This is the end of my fun\")\n",
    "    return inner_deco"
   ]
  },
  {
   "cell_type": "code",
   "execution_count": 8,
   "id": "7f9cf138-409a-492e-b410-9c6f2187ee64",
   "metadata": {},
   "outputs": [],
   "source": [
    "@deco ## --> Here i used deco function which i already created;\n",
    "def test1():\n",
    "    print(4+5)"
   ]
  },
  {
   "cell_type": "code",
   "execution_count": 9,
   "id": "f3848f3d-5389-4895-9dbe-48b084aceda5",
   "metadata": {},
   "outputs": [
    {
     "name": "stdout",
     "output_type": "stream",
     "text": [
      "This is the start of my fun\n",
      "9\n",
      "This is the end of my fun\n"
     ]
    }
   ],
   "source": [
    "test1()"
   ]
  },
  {
   "cell_type": "code",
   "execution_count": 13,
   "id": "ca89685c-e630-44c1-bec5-a59928e8af10",
   "metadata": {},
   "outputs": [],
   "source": [
    "## Example_2 of Decorator, here I am finding out the time complexity of function.\n",
    "import time\n",
    "def timer_test(func):\n",
    "    def timer_test_inner():\n",
    "        start = time.time()\n",
    "        func()\n",
    "        end=time.time()\n",
    "        print(end-start)\n",
    "    return timer_test_inner"
   ]
  },
  {
   "cell_type": "code",
   "execution_count": 14,
   "id": "46375b4c-2812-4077-a843-661dba2dea1b",
   "metadata": {},
   "outputs": [],
   "source": [
    "@timer_test ##--> here I decorate this function to find out the time complexity\n",
    "def test2():\n",
    "    print(45+67)"
   ]
  },
  {
   "cell_type": "code",
   "execution_count": 15,
   "id": "cb85ade8-a075-4d06-8839-9e7e27094d83",
   "metadata": {},
   "outputs": [
    {
     "name": "stdout",
     "output_type": "stream",
     "text": [
      "112\n",
      "5.459785461425781e-05\n"
     ]
    }
   ],
   "source": [
    "test2()"
   ]
  },
  {
   "cell_type": "code",
   "execution_count": 16,
   "id": "0d44187d-37ab-401f-b30e-005189b49e84",
   "metadata": {},
   "outputs": [],
   "source": [
    "@timer_test ##-->  Decorator\n",
    "def test3():\n",
    "    for i in range(1000000):\n",
    "        pass"
   ]
  },
  {
   "cell_type": "code",
   "execution_count": 19,
   "id": "6c3a054a-390e-402f-9eb5-ad7f2f093014",
   "metadata": {},
   "outputs": [
    {
     "name": "stdout",
     "output_type": "stream",
     "text": [
      "0.022214412689208984\n"
     ]
    }
   ],
   "source": [
    "test3()"
   ]
  }
 ],
 "metadata": {
  "kernelspec": {
   "display_name": "Python 3 (ipykernel)",
   "language": "python",
   "name": "python3"
  },
  "language_info": {
   "codemirror_mode": {
    "name": "ipython",
    "version": 3
   },
   "file_extension": ".py",
   "mimetype": "text/x-python",
   "name": "python",
   "nbconvert_exporter": "python",
   "pygments_lexer": "ipython3",
   "version": "3.10.8"
  }
 },
 "nbformat": 4,
 "nbformat_minor": 5
}
