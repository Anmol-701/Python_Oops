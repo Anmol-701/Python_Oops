{
 "cells": [
  {
   "cell_type": "markdown",
   "id": "47ee94e9-2711-40b3-985e-2eeaccc18ade",
   "metadata": {},
   "source": [
    "## Oops \"Object-oriented Programming System\""
   ]
  },
  {
   "cell_type": "code",
   "execution_count": 1,
   "id": "331dffe6-bb66-46c9-abea-4c918a824c24",
   "metadata": {},
   "outputs": [],
   "source": [
    "class test:\n",
    "    pass # it will not show an error if we don't want to write any thing inside the class"
   ]
  },
  {
   "cell_type": "code",
   "execution_count": 23,
   "id": "5b1faf00-691c-46d3-a235-68fa7694ae48",
   "metadata": {},
   "outputs": [],
   "source": [
    "class pwskills:\n",
    "# we have to pass the parameter 'self' as a reference to specify that it belongs to 'pwskills' class    \n",
    "# self is not a keyword we can use any other word\n",
    "    def welcome_msg(self):\n",
    "        print(\"Welcome to all the programmers\")"
   ]
  },
  {
   "cell_type": "code",
   "execution_count": 9,
   "id": "74df4e0c-4ca8-42c1-87b5-5960bb667786",
   "metadata": {},
   "outputs": [],
   "source": [
    "rohan = pwskills()  # here i created object named rohan of 'pwskills' class\n"
   ]
  },
  {
   "cell_type": "code",
   "execution_count": 10,
   "id": "0709a998-9a37-41ca-ae75-e2be993da172",
   "metadata": {},
   "outputs": [
    {
     "name": "stdout",
     "output_type": "stream",
     "text": [
      "Welcome to all the programmers\n"
     ]
    }
   ],
   "source": [
    "rohan.welcome_msg()"
   ]
  },
  {
   "cell_type": "code",
   "execution_count": 12,
   "id": "5fda055a-3c52-45b1-b79d-e66c133c08e5",
   "metadata": {},
   "outputs": [
    {
     "name": "stdout",
     "output_type": "stream",
     "text": [
      "Welcome to all the programmers\n"
     ]
    }
   ],
   "source": [
    "sohan=pwskills()\n",
    "sohan.welcome_msg()  # reusability"
   ]
  },
  {
   "cell_type": "code",
   "execution_count": 15,
   "id": "ae1933ef-f1ea-457a-8382-b85e0b47f7a8",
   "metadata": {},
   "outputs": [],
   "source": [
    "class pwskills1:\n",
    "## __INIT__ is constructor\n",
    "    def __init__(self, phone_number, email_id, student_id ):\n",
    "        self.phone_number=phone_number\n",
    "        self.email_id=email_id\n",
    "        self.student_id=student_id\n",
    "    def return_student_details(self):\n",
    "        return self.phone_number,self.email_id,self.student_id"
   ]
  },
  {
   "cell_type": "code",
   "execution_count": 16,
   "id": "90fd5637-fb8a-43fb-8e59-bdf4c2f0d55b",
   "metadata": {},
   "outputs": [],
   "source": [
    "rohan =pwskills1(12345657,\"rohan@gmail.com\",101)"
   ]
  },
  {
   "cell_type": "code",
   "execution_count": 21,
   "id": "7c0e8147-b1ff-48ba-acce-f4d5aaf7dfb5",
   "metadata": {},
   "outputs": [
    {
     "data": {
      "text/plain": [
       "12345657"
      ]
     },
     "execution_count": 21,
     "metadata": {},
     "output_type": "execute_result"
    }
   ],
   "source": [
    "## Now we can access the details belongs to rohan\n",
    "rohan.phone_number"
   ]
  },
  {
   "cell_type": "code",
   "execution_count": 18,
   "id": "c67177b6-77c7-4378-845d-216e2c1b11b4",
   "metadata": {},
   "outputs": [
    {
     "data": {
      "text/plain": [
       "'rohan@gmail.com'"
      ]
     },
     "execution_count": 18,
     "metadata": {},
     "output_type": "execute_result"
    }
   ],
   "source": [
    "rohan.email_id"
   ]
  },
  {
   "cell_type": "code",
   "execution_count": 20,
   "id": "673c96d6-072b-4706-a0fd-1cceb772427c",
   "metadata": {},
   "outputs": [
    {
     "data": {
      "text/plain": [
       "101"
      ]
     },
     "execution_count": 20,
     "metadata": {},
     "output_type": "execute_result"
    }
   ],
   "source": [
    "rohan.student_id"
   ]
  },
  {
   "cell_type": "code",
   "execution_count": 22,
   "id": "dc506372-021b-48df-87b8-fb064cee3110",
   "metadata": {},
   "outputs": [
    {
     "data": {
      "text/plain": [
       "22213413"
      ]
     },
     "execution_count": 22,
     "metadata": {},
     "output_type": "execute_result"
    }
   ],
   "source": [
    "sohan=pwskills1(22213413,'sohan@gmail', 102)\n",
    "sohan.phone_number"
   ]
  },
  {
   "cell_type": "code",
   "execution_count": null,
   "id": "5939a1cd-1e93-4857-973a-5f26ba549de2",
   "metadata": {},
   "outputs": [],
   "source": []
  }
 ],
 "metadata": {
  "kernelspec": {
   "display_name": "Python 3 (ipykernel)",
   "language": "python",
   "name": "python3"
  },
  "language_info": {
   "codemirror_mode": {
    "name": "ipython",
    "version": 3
   },
   "file_extension": ".py",
   "mimetype": "text/x-python",
   "name": "python",
   "nbconvert_exporter": "python",
   "pygments_lexer": "ipython3",
   "version": "3.10.8"
  }
 },
 "nbformat": 4,
 "nbformat_minor": 5
}
